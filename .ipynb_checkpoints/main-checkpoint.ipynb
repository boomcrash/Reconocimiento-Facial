{
 "cells": [
  {
   "cell_type": "code",
   "execution_count": null,
   "id": "1e2b78b0",
   "metadata": {},
   "outputs": [],
   "source": [
    "#Para instalar dlib, debe seguir los pasos:\n",
    "#1.-instalar anaconda, 2.- crear un ambiente virtual, 3.-activar ambiente virtual, \n",
    "#4.-en la consola de conda escribir: pip install cmake , 5.- luego escribir  conda install -c conda-forge dlib=19.17"
   ]
  },
  {
   "cell_type": "code",
   "execution_count": 1,
   "id": "c8fa565d",
   "metadata": {},
   "outputs": [
    {
     "name": "stdout",
     "output_type": "stream",
     "text": [
      "Python 3.7.0\n"
     ]
    }
   ],
   "source": [
    "!python --version"
   ]
  },
  {
   "cell_type": "code",
   "execution_count": 2,
   "id": "8026e5ad",
   "metadata": {},
   "outputs": [
    {
     "data": {
      "text/plain": [
       "'19.17.0'"
      ]
     },
     "execution_count": 2,
     "metadata": {},
     "output_type": "execute_result"
    }
   ],
   "source": [
    "import dlib\n",
    "dlib.__version__"
   ]
  },
  {
   "cell_type": "code",
   "execution_count": 3,
   "id": "00ff8cbe",
   "metadata": {},
   "outputs": [],
   "source": [
    "import cv2\n",
    "import numpy  as np"
   ]
  },
  {
   "cell_type": "code",
   "execution_count": 7,
   "id": "b5cde14a",
   "metadata": {},
   "outputs": [
    {
     "data": {
      "text/plain": [
       "48"
      ]
     },
     "execution_count": 7,
     "metadata": {},
     "output_type": "execute_result"
    }
   ],
   "source": [
    "#detecta las caras de imagenes\n",
    "face_detector = dlib.get_frontal_face_detector()\n",
    "model = dlib.shape_predictor(\"shape_predictor_68_face_landmarks.dat\") \n",
    "image = cv2.imread(\"isaac.jpg\")\n",
    "gray_scale = cv2.cvtColor(src=image, code=cv2.COLOR_BGR2GRAY)\n",
    "mask = face_detector(gray_scale)\n",
    "for i in mask:\n",
    "    x1 = i.left()\n",
    "    x2 = i.right()\n",
    "    y1 = i.top()\n",
    "    y2 = i.bottom()\n",
    "    final_model = model(image=gray_scale, box=i)\n",
    "    for n in range(0, 68):\n",
    "        x = final_model.part(n).x\n",
    "        y = final_model.part(n).y\n",
    "    #cv2.rectangle(img=img, pt1=(x1, y1), pt2=(x2, y2), color=(0, 255, 0), thickness=4)\n",
    "        cv2.circle(img= image, center=(x, y), radius=3, color=(0,255,0), thickness=-1)\n",
    "cv2.imshow(winname=\"Face\", mat=image)\n",
    "cv2.waitKey(delay=0)"
   ]
  },
  {
   "cell_type": "code",
   "execution_count": null,
   "id": "be598512",
   "metadata": {},
   "outputs": [],
   "source": []
  }
 ],
 "metadata": {
  "kernelspec": {
   "display_name": "Python 3 (ipykernel)",
   "language": "python",
   "name": "python3"
  },
  "language_info": {
   "codemirror_mode": {
    "name": "ipython",
    "version": 3
   },
   "file_extension": ".py",
   "mimetype": "text/x-python",
   "name": "python",
   "nbconvert_exporter": "python",
   "pygments_lexer": "ipython3",
   "version": "3.7.0"
  }
 },
 "nbformat": 4,
 "nbformat_minor": 5
}
